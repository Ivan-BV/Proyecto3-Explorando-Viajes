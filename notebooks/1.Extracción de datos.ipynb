{
 "cells": [
  {
   "cell_type": "code",
   "execution_count": 3,
   "metadata": {},
   "outputs": [],
   "source": [
    "import requests\n",
    "import pandas as pd\n",
    "pd.set_option(\"display.max_columns\", None)\n",
    "pd.set_option(\"display.max_rows\", None)\n",
    "import numpy as np\n",
    "from time import sleep\n",
    "import warnings\n",
    "warnings.simplefilter(action=\"ignore\", category=FutureWarning)\n",
    "import os\n",
    "import dotenv\n",
    "dotenv.load_dotenv()\n",
    "from datetime import datetime\n",
    "from src.soporte_variables import url_atrapalo_barcelona, url_atrapalo_londres, url_api_vuelos, url_api_hoteles, url_api_cod_regiones, cod_region_bcn, cod_region_lon\n",
    "from src.soporte_funciones import buscar_actividades, obtener_cod_region, buscar_hoteles, buscar_vuelos\n",
    "import matplotlib.pyplot as plt\n",
    "import seaborn as sns"
   ]
  },
  {
   "cell_type": "markdown",
   "metadata": {},
   "source": [
    "# 1. Extracción de datos"
   ]
  },
  {
   "cell_type": "markdown",
   "metadata": {},
   "source": [
    "### Obtención de vuelos con Bookin Com API"
   ]
  },
  {
   "cell_type": "code",
   "execution_count": 2,
   "metadata": {},
   "outputs": [],
   "source": [
    "querystring_bcn = {\"fromId\":\"MAD\",\n",
    "               \"toId\":\"BCN\",\n",
    "               \"departureDate\":\"2024-10-25\",\n",
    "               \"returnDate\":\"2024-10-27\",\n",
    "               \"cabinClass\":\"ECONOMY\",\n",
    "               \"adults\":\"1\",\n",
    "               \"numberOfStops\":\"all\"}\n",
    "\n",
    "querystring_lon = {\"fromId\":\"MAD\",\n",
    "               \"toId\":\"LON\",\n",
    "               \"departureDate\":\"2024-10-25\",\n",
    "               \"returnDate\":\"2024-10-27\",\n",
    "               \"cabinClass\":\"ECONOMY\",\n",
    "               \"adults\":\"1\",\n",
    "               \"numberOfStops\":\"all\"}\n",
    "\n",
    "key = os.getenv(\"token\")\n",
    "\n",
    "df_vuelos_bcn = buscar_vuelos(url_api_vuelos, querystring_bcn, key)\n",
    "df_vuelos_lon = buscar_vuelos(url_api_vuelos, querystring_lon, key)\n",
    "\n",
    "df_vuelos_bcn.to_csv(f\"datos/vuelos_bcn_{datetime.now().date()}.csv\")\n",
    "df_vuelos_lon.to_csv(f\"datos/vuelos_lon_{datetime.now().date()}.csv\")"
   ]
  },
  {
   "cell_type": "markdown",
   "metadata": {},
   "source": [
    "### Obtención de hoteles desde Hotels Com API"
   ]
  },
  {
   "cell_type": "code",
   "execution_count": 4,
   "metadata": {},
   "outputs": [],
   "source": [
    "# Obtención del código de region necesario para realizar la busqueda de hoteles\n",
    "querystring_bcn = {\"query\":\"Barcelona\",\n",
    "                   \"domain\":\"ES\",\n",
    "                   \"locale\":\"es_ES\"}\n",
    "\n",
    "querystring_lon = {\"query\":\"Londres\",\n",
    "                   \"domain\":\"GB\",\n",
    "                   \"locale\":\"en_GB\"}\n",
    "\n",
    "key = os.getenv(\"token\")\n",
    "\n",
    "cod_region_bcn = obtener_cod_region(url_api_cod_regiones, querystring_bcn, key)\n",
    "cod_region_lon = obtener_cod_region(url_api_cod_regiones, querystring_lon, key)\n",
    "\n",
    "# Para no realizar demasiadas llamadas a la API durante las pruebas lo he ejecutado 1 vez y me lo he guardado en soporte_variables.py"
   ]
  },
  {
   "cell_type": "code",
   "execution_count": 3,
   "metadata": {},
   "outputs": [],
   "source": [
    "# Búsqueda de hoteles\n",
    "querystring_bcn = {\"checkout_date\":\"2024-10-27\",\n",
    "               \"price_min\":\"0\",\n",
    "               \"available_filter\":\"SHOW_AVAILABLE_ONLY\",\n",
    "               \"amenities\":\"WIFI,PARKING\",\n",
    "               \"price_max\":\"1000\",\n",
    "               \"adults_number\":\"1\",\n",
    "               \"payment_type\":\"PAY_LATER,FREE_CANCELLATION\",\n",
    "               \"checkin_date\":\"2024-10-25\",\n",
    "               \"meal_plan\":\"FULL_BOARD\",\n",
    "               \"page_number\":\"1\",\n",
    "               \"region_id\":cod_region_bcn,\n",
    "               \"guest_rating_min\":\"8\",\n",
    "               \"star_rating_ids\":\"3,4,5\",\n",
    "               \"sort_order\":\"REVIEW\",\n",
    "               \"locale\":\"es_ES\",\n",
    "               \"domain\":\"ES\",\n",
    "               \"lodging_type\":\"HOTEL,HOSTEL,APART_HOTEL\"}\n",
    "\n",
    "querystring_lon = {\"checkout_date\":\"2024-10-27\",\n",
    "               \"price_min\":\"0\",\n",
    "               \"available_filter\":\"SHOW_AVAILABLE_ONLY\",\n",
    "               \"amenities\":\"WIFI,PARKING\",\n",
    "               \"price_max\":\"1000\",\n",
    "               \"adults_number\":\"1\",\n",
    "               \"payment_type\":\"PAY_LATER,FREE_CANCELLATION\",\n",
    "               \"checkin_date\":\"2024-10-25\",\n",
    "               \"meal_plan\":\"FULL_BOARD\",\n",
    "               \"page_number\":\"1\",\n",
    "               \"region_id\":cod_region_lon,\n",
    "               \"guest_rating_min\":\"8\",\n",
    "               \"star_rating_ids\":\"3,4,5\",\n",
    "               \"sort_order\":\"REVIEW\",\n",
    "               \"locale\":\"es_ES\",\n",
    "               \"domain\":\"ES\",\n",
    "               \"lodging_type\":\"HOTEL,HOSTEL,APART_HOTEL\"}\n",
    "\n",
    "key = os.getenv(\"token\")\n",
    "\n",
    "df_hoteles_bcn = buscar_hoteles(url_api_hoteles, querystring_bcn, key)\n",
    "sleep(5)\n",
    "df_hoteles_lnd = buscar_hoteles(url_api_hoteles, querystring_lon, key)\n",
    "\n",
    "df_hoteles_bcn.to_csv(f\"datos/hoteles_bcn_{datetime.now().date()}.csv\")\n",
    "df_hoteles_lnd.to_csv(f\"datos/hoteles_lon_{datetime.now().date()}.csv\")"
   ]
  },
  {
   "cell_type": "markdown",
   "metadata": {},
   "source": [
    "### Obtención de actividades con Web scrapping"
   ]
  },
  {
   "cell_type": "code",
   "execution_count": null,
   "metadata": {},
   "outputs": [],
   "source": [
    "df_actividades_barcelona = buscar_actividades(url_atrapalo_barcelona)\n",
    "df_actividades_barcelona.to_csv(f\"datos/actividades_bcn_{datetime.now().date()}.csv\")"
   ]
  },
  {
   "cell_type": "code",
   "execution_count": null,
   "metadata": {},
   "outputs": [],
   "source": [
    "df_actividades_londres = buscar_actividades(url_atrapalo_londres)\n",
    "df_actividades_londres.to_csv(f\"datos/actividades_lon_{datetime.now().date()}.csv\")"
   ]
  }
 ],
 "metadata": {
  "kernelspec": {
   "display_name": "Python 3",
   "language": "python",
   "name": "python3"
  },
  "language_info": {
   "codemirror_mode": {
    "name": "ipython",
    "version": 3
   },
   "file_extension": ".py",
   "mimetype": "text/x-python",
   "name": "python",
   "nbconvert_exporter": "python",
   "pygments_lexer": "ipython3",
   "version": "3.12.6"
  }
 },
 "nbformat": 4,
 "nbformat_minor": 2
}
