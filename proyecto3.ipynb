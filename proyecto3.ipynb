{
 "cells": [
  {
   "cell_type": "code",
   "execution_count": 1,
   "metadata": {},
   "outputs": [],
   "source": [
    "from bs4 import BeautifulSoup\n",
    "import requests\n",
    "import pandas as pd\n",
    "import numpy as np\n",
    "from time import sleep\n",
    "from selenium import webdriver\n",
    "from webdriver_manager.chrome import ChromeDriverManager\n",
    "from selenium.webdriver.common.keys import Keys\n",
    "from selenium.webdriver.support.ui import Select\n",
    "from selenium.webdriver.support.ui import WebDriverWait\n",
    "from selenium.webdriver.support import expected_conditions as EC\n",
    "from selenium.common.exceptions import NoSuchElementException\n",
    "from src.soporte_variables import url_atrapalo\n",
    "pd.set_option(\"display.max_columns\", None)\n",
    "pd.set_option(\"display.max_rows\", None)\n",
    "import warnings\n",
    "warnings.simplefilter(action='ignore', category=FutureWarning)"
   ]
  },
  {
   "cell_type": "code",
   "execution_count": null,
   "metadata": {},
   "outputs": [],
   "source": [
    "res = requests.get(url_atrapalo)\n",
    "print(res.status_code)\n",
    "sopa = BeautifulSoup(res.content, \"html.parser\")\n",
    "resultados = sopa.find(\"div\", {\"id\": \"resultados_container\"})\n",
    "card_results = resultados.find_all(\"div\", {\"class\": \"card-result\"})\n",
    "imagenes = [f\"https://www.atrapalo.com{card.find('img', {'class': 'lazy event-img'}).get('data-original')}\" if card.find(\"img\", {'class': 'lazy event-img'}) is not None else pd.NA for card in card_results]\n",
    "df_imagenes = pd.DataFrame(imagenes, columns=[\"imagen\"])\n",
    "df_imagenes.dropna(inplace=True)\n",
    "ratings = [resultado.find(\"div\", {\"class\": \"score background-opi-very-good\"}) if resultado.find(\"div\", {\"class\": \"score background-opi-very-good\"}) is not None else pd.NA for resultado in resultados.find_all(\"div\", {\"data-qa-ta\": \"wrapperPhoto\"})]\n",
    "ratings = [rating.find(\"span\", {\"class\": \"opi-rating\"}) if rating is not pd.NA else pd.NA for rating in ratings]\n",
    "ratings = [str(rating.getText()).replace(\"\\n\", \"\").strip() if rating is not pd.NA else pd.NA for rating in ratings]\n",
    "nombres = [str(resultado.find(\"span\").getText()).replace(\"\\n\", \"\").strip() for resultado in resultados.find_all(\"h2\", {\"class\": \"clear nombre\"})]\n",
    "lugares = [resultado.find(\"span\", {\"class\": \"locality GATrackEvent_ubicacion show-for-small-only\"}) if resultado.find(\"span\", {\"class\": \"locality GATrackEvent_ubicacion show-for-small-only\"}) is not None else resultado.find(\"span\") for resultado in resultados.find_all(\"p\", {\"class\": \"info\"})]\n",
    "lugares = [lugar.getText() if lugar is not None else pd.NA for lugar in lugares]\n",
    "df_lugares = pd.DataFrame(lugares, columns=[\"lugar\"]).dropna()\n",
    "condicion = df_lugares[\"lugar\"].str.startswith(\"2\") == False\n",
    "#condicion2 = df_lugares[\"lugar\"].str.startswith(\"1\") == False\n",
    "df_lugares = df_lugares[condicion]\n",
    "df_lugares = df_lugares[\"lugar\"].str.replace(\"\\n\", \"\").replace(\"\\xa0\", \"\").replace(\"(Barcelona)\", \"\").str.strip().reset_index().drop(columns=[\"index\"])\n",
    "secciones = [resultado.find(\"span\", {\"class\": \"type large-loc\"}) for resultado in resultados.find_all(\"p\", {\"class\": \"info\"})]\n",
    "texto_secciones = [seccion.getText() if seccion is not None else pd.NA for seccion in secciones]\n",
    "df_secciones = pd.DataFrame(texto_secciones, columns=[\"categoria\"]).dropna()\n",
    "df_secciones = df_secciones[\"categoria\"].str.replace(\"\\n\", \"\").str.strip().reset_index().drop(columns=[\"index\"])\n",
    "df = pd.concat([pd.DataFrame(nombres, columns=[\"nombre_actividad\"]), df_lugares, df_secciones, pd.DataFrame(ratings, columns=[\"puntuacion\"]), df_imagenes], axis=1)\n",
    "df[\"puntuacion\"].fillna(\"Sin puntuación\", axis=0, inplace=True)\n",
    "df[\"imagen\"].fillna(\"Sin imagen\", axis=0, inplace=True)\n",
    "df"
   ]
  },
  {
   "cell_type": "code",
   "execution_count": null,
   "metadata": {},
   "outputs": [],
   "source": [
    "duracion = resultados.find_all(\"p\", {\"class\": \"info\"})[::2]\n",
    "duracion"
   ]
  },
  {
   "cell_type": "code",
   "execution_count": null,
   "metadata": {},
   "outputs": [],
   "source": [
    "driver = webdriver.Chrome()\n",
    "url_atrapalo = \"https://www.atrapalo.com/actividades/\"\n",
    "driver.get(url_atrapalo)\n",
    "driver.maximize_window()\n",
    "sleep(1)\n",
    "try:\n",
    "    driver.find_element(\"css selector\", \"#soycontrolcookies > div.soycontrolcookies_header > div.soycontrolcookies_buttons > button.btn.btn-default.reject-button\").click()\n",
    "    sleep(1)\n",
    "    driver.find_element(\"css selector\", \"#search_widget > form > input.ui-autocomplete-input\").click()\n",
    "    sleep(1)\n",
    "    driver.find_element(\"css selector\", \"#ecommfinder_searchbox\").send_keys(busqueda)\n",
    "    import random\n",
    "    lista_url = []\n",
    "    for n in range(1, int(cantidad)+1):\n",
    "        dormir = random.choice(range(1,3))\n",
    "        nombre_url = driver.find_element(\"css selector\", f\"#ecommfinder_results > a:nth-child({n})\").get_attribute(\"href\")\n",
    "        lista_url.append(nombre_url)\n",
    "        sleep(dormir)\n",
    "    driver.quit()\n",
    "except:\n",
    "    print(\"Error\")\n",
    "    driver.quit()\n",
    "\n",
    "lista_url"
   ]
  }
 ],
 "metadata": {
  "kernelspec": {
   "display_name": "proyecto3",
   "language": "python",
   "name": "python3"
  },
  "language_info": {
   "codemirror_mode": {
    "name": "ipython",
    "version": 3
   },
   "file_extension": ".py",
   "mimetype": "text/x-python",
   "name": "python",
   "nbconvert_exporter": "python",
   "pygments_lexer": "ipython3",
   "version": "3.13.0"
  }
 },
 "nbformat": 4,
 "nbformat_minor": 2
}
