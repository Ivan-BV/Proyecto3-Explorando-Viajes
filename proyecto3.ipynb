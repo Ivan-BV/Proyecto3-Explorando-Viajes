{
 "cells": [
  {
   "cell_type": "code",
   "execution_count": 5,
   "metadata": {},
   "outputs": [],
   "source": [
    "from bs4 import BeautifulSoup\n",
    "import requests\n",
    "import pandas as pd\n",
    "import numpy as np\n",
    "from time import sleep\n",
    "from selenium import webdriver\n",
    "from webdriver_manager.chrome import ChromeDriverManager\n",
    "from selenium.webdriver.common.keys import Keys\n",
    "from selenium.webdriver.support.ui import Select\n",
    "from selenium.webdriver.support.ui import WebDriverWait\n",
    "from selenium.webdriver.support import expected_conditions as EC\n",
    "from selenium.common.exceptions import NoSuchElementException\n",
    "from src.soporte_variables import url_atrapalo"
   ]
  },
  {
   "cell_type": "code",
   "execution_count": null,
   "metadata": {},
   "outputs": [],
   "source": [
    "res = requests.get(url_atrapalo)\n",
    "print(res.status_code)\n",
    "sopa = BeautifulSoup(res.content, \"html.parser\")\n",
    "resultados = sopa.find(\"div\", {\"id\": \"resultados_container\"})\n",
    "card_results = resultados.find_all(\"div\", {\"class\": \"card-result\"})\n",
    "imagenes = [f\"https://www.atrapalo.com{card.find('img', {'class': 'lazy event-img'}).get('data-original')}\" if card.find(\"img\", {'class': 'lazy event-img'}) is not None else \"Sin imagen\" for card in card_results]\n",
    "for imagen in imagenes:\n",
    "    if str(imagen) == \"Sin imagen\":\n",
    "        imagenes.remove(\"Sin imagen\")\n",
    "ratings = [str(rating.getText()).replace(\"\\n\", \"\").strip() for rating in resultados.find_all(\"span\", {\"class\": \"opi-rating\"})]\n",
    "nombres = [str(resultado.find(\"span\").getText()).replace(\"\\n\", \"\").strip() for resultado in resultados.find_all(\"h2\", {\"class\": \"clear nombre\"})]\n",
    "lugares = [resultado.find(\"span\", {\"class\": \"\"}) if resultado.find(\"span\", {\"class\": \"\"}) is not None else \"Sin lugar\" for resultado in resultados.find_all(\"p\", {\"class\": \"info\"})]\n",
    "for lugar in lugares:\n",
    "    if str(lugar) == \"Sin lugar\":\n",
    "        lugares.remove(\"Sin lugar\")\n",
    "#lugares = [lugar.find(\"a\", {\"class\": \"locality GATrackEvent_ubicacion hide-for-small-only\"}) if lugar.find(\"a\", {\"class\": \"locality GATrackEvent_ubicacion hide-for-small-only\"}) is not None else \"None\" for lugar in lugares]\n",
    "lugares\n",
    "#df = pd.concat([pd.DataFrame(nombres), pd.DataFrame(lugares), pd.DataFrame(ratings), pd.DataFrame(imagenes)], axis=1)\n",
    "#df"
   ]
  },
  {
   "cell_type": "code",
   "execution_count": null,
   "metadata": {},
   "outputs": [],
   "source": [
    "lugares"
   ]
  },
  {
   "cell_type": "code",
   "execution_count": null,
   "metadata": {},
   "outputs": [],
   "source": [
    "driver = webdriver.Chrome()\n",
    "url_atrapalo = \"https://www.atrapalo.com/actividades/\"\n",
    "driver.get(url_atrapalo)\n",
    "driver.maximize_window()\n",
    "sleep(1)\n",
    "try:\n",
    "    driver.find_element(\"css selector\", \"#soycontrolcookies > div.soycontrolcookies_header > div.soycontrolcookies_buttons > button.btn.btn-default.reject-button\").click()\n",
    "    sleep(1)\n",
    "    driver.find_element(\"css selector\", \"#search_widget > form > input.ui-autocomplete-input\").click()\n",
    "    sleep(1)\n",
    "    driver.find_element(\"css selector\", \"#ecommfinder_searchbox\").send_keys(busqueda)\n",
    "    import random\n",
    "    lista_url = []\n",
    "    for n in range(1, int(cantidad)+1):\n",
    "        dormir = random.choice(range(1,3))\n",
    "        nombre_url = driver.find_element(\"css selector\", f\"#ecommfinder_results > a:nth-child({n})\").get_attribute(\"href\")\n",
    "        lista_url.append(nombre_url)\n",
    "        sleep(dormir)\n",
    "    driver.quit()\n",
    "except:\n",
    "    print(\"Error\")\n",
    "    driver.quit()\n",
    "\n",
    "lista_url"
   ]
  }
 ],
 "metadata": {
  "kernelspec": {
   "display_name": "proyecto3",
   "language": "python",
   "name": "python3"
  },
  "language_info": {
   "codemirror_mode": {
    "name": "ipython",
    "version": 3
   },
   "file_extension": ".py",
   "mimetype": "text/x-python",
   "name": "python",
   "nbconvert_exporter": "python",
   "pygments_lexer": "ipython3",
   "version": "3.13.0"
  }
 },
 "nbformat": 4,
 "nbformat_minor": 2
}
